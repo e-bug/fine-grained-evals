{
 "cells": [
  {
   "cell_type": "code",
   "execution_count": 1,
   "metadata": {},
   "outputs": [],
   "source": [
    "import jsonlines\n",
    "import numpy as np\n",
    "from collections import defaultdict"
   ]
  },
  {
   "cell_type": "code",
   "execution_count": 2,
   "metadata": {},
   "outputs": [],
   "source": [
    "basedir = \"../outputs/VSR_random\"\n",
    "\n",
    "models = {\n",
    "    \"albef_4m\": \"ALBEF$_{4M}$\",\n",
    "    \"albef_14m\": \"ALBEF$_{14M}$\",\n",
    "    \"blip_14m\": \"BLIP$_{14M}$\",\n",
    "    \"blip_129m\": \"BLIP$_{129M}$\",\n",
    "    \"blip_capfiltl_129m\": \"BLIP$_{129M}$+CapFilt-L\",\n",
    "    \"blip_vitl_129m\": \"BLIP-ViT/L$_{129M}$\",\n",
    "    \"pevl_pretraining\": \"PEVL$_{pretrain}$\",\n",
    "    \"pevl_grounding\": \"PEVL$_{grounding}$\",\n",
    "    \"pevl_vrd\": \"PEVL$_{vrd}$\",\n",
    "    \"x-vlm_4m\": \"X-VLM$_{4M}$\",\n",
    "    \"x-vlm_16m\": \"X-VLM$_{16M}$\",\n",
    "    \"blip2_itm_pretrain\": \"BLIP-2\",\n",
    "    }"
   ]
  },
  {
   "cell_type": "code",
   "execution_count": 4,
   "metadata": {},
   "outputs": [],
   "source": [
    "adj_rels = \"\"\"\n",
    "adjacent to, alongside, at the side of, at the right side of, at the left side of,\n",
    " attached to, at the back of, ahead of, against, at the edge of\n",
    "\"\"\"\n",
    "\n",
    "dir_rels = \"\"\"\n",
    "off, past, toward, down, away from, along, around, into, across, across from, down from\n",
    "\"\"\"\n",
    "\n",
    "ori_rels = \"\"\"\n",
    "facing, facing away from, parallel to, perpendicular to\n",
    "\"\"\"\n",
    "\n",
    "proj_rels = \"\"\"\n",
    "on top of, beneath, beside, behind, left of, right of, under, in front of, below, above, over, in the middle of\n",
    "\"\"\"\n",
    "\n",
    "prox_rels = \"\"\"\n",
    "by, close to, near, far from, far away from\n",
    "\"\"\"\n",
    "\n",
    "topo_rels = \"\"\"\n",
    "connected to, detached from, has as a part, part of, contains, within, at, on, in, with, surrounding, among,\n",
    "consists of, out of, between, inside, outside, touching\n",
    "\"\"\"\n",
    "\n",
    "unalloc_rels = \"\"\"\n",
    "beyond, next to, opposite to, among, enclosed by\n",
    "\"\"\"\n",
    "\n",
    "cat2relation = {\n",
    "    'adjacency': [e.strip() for e in adj_rels.split(',')],\n",
    "    'directional': [e.strip() for e in dir_rels.split(',')],\n",
    "    'orientation': [e.strip() for e in ori_rels.split(',')],\n",
    "    'projective': [e.strip() for e in proj_rels.split(',')],\n",
    "    'proximity': [e.strip() for e in prox_rels.split(',')],\n",
    "    'topological': [e.strip() for e in topo_rels.split(',')],\n",
    "    'unallocated': [e.strip() for e in unalloc_rels.split(',')],\n",
    "}\n",
    "relation2cat = {v: k for k, l in cat2relation.items() for v in l}"
   ]
  },
  {
   "cell_type": "code",
   "execution_count": 5,
   "metadata": {},
   "outputs": [
    {
     "name": "stdout",
     "output_type": "stream",
     "text": [
      "\\textbf{Adjacency} & \\textbf{Directional} & \\textbf{Orientation} & \\textbf{Projective} & \\textbf{Proximity} & \\textbf{Topological} & \\textbf{Unallocated} & "
     ]
    }
   ],
   "source": [
    "for cat in cat2relation:\n",
    "    print('\\\\textbf{%s}' % cat.capitalize(), end = ' & ')"
   ]
  },
  {
   "cell_type": "markdown",
   "metadata": {},
   "source": [
    "## Test"
   ]
  },
  {
   "cell_type": "code",
   "execution_count": 3,
   "metadata": {},
   "outputs": [
    {
     "data": {
      "text/plain": [
       "[{'label': 1,\n",
       "  'score': 0.34567856788635254,\n",
       "  'relation': 'in front of',\n",
       "  'id': 0},\n",
       " {'label': 1, 'score': 0.08471976220607758, 'relation': 'behind', 'id': 1}]"
      ]
     },
     "execution_count": 3,
     "metadata": {},
     "output_type": "execute_result"
    }
   ],
   "source": [
    "model = list(models.keys())[0]\n",
    "with jsonlines.open(f'{basedir}/{model}/{model}_test.jsonl') as reader:\n",
    "    lines = [obj for obj in reader]\n",
    "\n",
    "lines[:2]"
   ]
  },
  {
   "cell_type": "code",
   "execution_count": 6,
   "metadata": {},
   "outputs": [
    {
     "name": "stdout",
     "output_type": "stream",
     "text": [
      "ALBEF$_{4M}$ & 51.1 & 42.2 & 58.0 & 60.2 & 55.3 & 59.2 & 56.9 & 57.3 \\\\\n",
      "ALBEF$_{14M}$ & 54.2 & 40.0 & 58.0 & 62.6 & 52.0 & 58.9 & 58.8 & 58.3 \\\\\n",
      "BLIP$_{14M}$ & 49.3 & 50.0 & 47.3 & 49.3 & 48.0 & 51.8 & 41.2 & 49.7 \\\\\n",
      "BLIP$_{129M}$ & 41.2 & 52.2 & 53.6 & 45.4 & 49.6 & 49.7 & 37.3 & 46.9 \\\\\n",
      "BLIP$_{129M}$+CapFilt-L & 49.3 & 57.8 & 53.6 & 45.5 & 47.2 & 51.1 & 41.2 & 48.7 \\\\\n",
      "BLIP-ViT/L$_{129M}$ & 51.8 & 58.9 & 52.7 & 48.5 & 43.9 & 51.8 & 47.1 & 50.3 \\\\\n",
      "PEVL$_{pretrain}$ & 55.3 & 48.9 & 56.2 & 60.8 & 48.8 & 57.4 & 58.8 & 57.5 \\\\\n",
      "PEVL$_{grounding}$ & 53.5 & 50.0 & 52.7 & 59.4 & 54.5 & 60.2 & 58.8 & 57.7 \\\\\n",
      "PEVL$_{vrd}$ & 55.6 & 52.2 & 53.6 & 60.4 & 54.5 & 63.1 & 64.7 & 59.5 \\\\\n",
      "X-VLM$_{4M}$ & 57.7 & 43.3 & 52.7 & 66.1 & 54.5 & 68.4 & 62.7 & 63.0 \\\\\n",
      "X-VLM$_{16M}$ & 58.5 & 46.7 & 58.0 & 67.7 & 52.0 & 68.7 & 68.6 & 64.3 \\\\\n",
      "BLIP-2 & 54.9 & 43.3 & 57.1 & 63.6 & 51.2 & 67.0 & 66.7 & 61.5 \\\\\n"
     ]
    }
   ],
   "source": [
    "for model in models:\n",
    "    with jsonlines.open(f'{basedir}/{model}/{model}_test.jsonl') as reader:\n",
    "        lines = [obj for obj in reader]\n",
    "    res_dict = defaultdict(list)\n",
    "    for i in range(0, len(lines)):\n",
    "        l = lines[i]\n",
    "        if l['label']:\n",
    "            res = l['score'] >= 0.5\n",
    "        else:\n",
    "            res = l['score'] < 0.5\n",
    "        res_dict['overall'].append(res)\n",
    "        res_dict[relation2cat[l['relation']]].append(res)\n",
    "    \n",
    "    print(f'{models[model]} &', end=' ')\n",
    "    for k in cat2relation.keys():\n",
    "        print(f'{np.mean(res_dict[k])*100:.1f}', end=' & ')\n",
    "    print(f'{np.mean(res_dict[\"overall\"])*100:.1f} \\\\\\\\')"
   ]
  },
  {
   "cell_type": "markdown",
   "metadata": {},
   "source": [
    "## Dev"
   ]
  },
  {
   "cell_type": "code",
   "execution_count": 7,
   "metadata": {},
   "outputs": [
    {
     "data": {
      "text/plain": [
       "[{'label': 1, 'score': 0.9958904385566711, 'relation': 'beside', 'id': 0},\n",
       " {'label': 0, 'score': 0.0012446464970707893, 'relation': 'touching', 'id': 1}]"
      ]
     },
     "execution_count": 7,
     "metadata": {},
     "output_type": "execute_result"
    }
   ],
   "source": [
    "model = list(models.keys())[0]\n",
    "with jsonlines.open(f'{basedir}/{model}/{model}_dev.jsonl') as reader:\n",
    "    lines = [obj for obj in reader]\n",
    "\n",
    "lines[:2]"
   ]
  },
  {
   "cell_type": "code",
   "execution_count": 8,
   "metadata": {},
   "outputs": [
    {
     "name": "stdout",
     "output_type": "stream",
     "text": [
      "ALBEF$_{4M}$ & 52.3 & 38.6 & 55.9 & 61.7 & 56.2 & 58.6 & 65.6 & 58.0 \\\\\n",
      "ALBEF$_{14M}$ & 52.3 & 59.1 & 55.9 & 59.8 & 46.9 & 66.8 & 71.9 & 60.2 \\\\\n",
      "BLIP$_{14M}$ & 56.8 & 56.8 & 57.6 & 42.5 & 51.6 & 45.1 & 50.0 & 47.4 \\\\\n",
      "BLIP$_{129M}$ & 44.7 & 43.2 & 52.5 & 53.6 & 53.1 & 50.2 & 40.6 & 50.5 \\\\\n",
      "BLIP$_{129M}$+CapFilt-L & 57.6 & 36.4 & 47.5 & 45.9 & 48.4 & 48.5 & 37.5 & 47.7 \\\\\n",
      "BLIP-ViT/L$_{129M}$ & 56.1 & 29.5 & 49.2 & 46.9 & 53.1 & 49.8 & 46.9 & 48.7 \\\\\n",
      "PEVL$_{pretrain}$ & 47.0 & 56.8 & 57.6 & 61.9 & 51.6 & 62.4 & 71.9 & 59.3 \\\\\n",
      "PEVL$_{grounding}$ & 53.8 & 65.9 & 59.3 & 60.9 & 60.9 & 62.7 & 75.0 & 61.1 \\\\\n",
      "PEVL$_{vrd}$ & 54.5 & 59.1 & 61.0 & 59.8 & 59.4 & 64.1 & 68.8 & 60.7 \\\\\n",
      "X-VLM$_{4M}$ & 57.6 & 56.8 & 59.3 & 69.2 & 57.8 & 71.2 & 75.0 & 66.6 \\\\\n",
      "X-VLM$_{16M}$ & 61.4 & 65.9 & 64.4 & 68.4 & 62.5 & 70.5 & 84.4 & 67.9 \\\\\n",
      "BLIP-2 & 59.8 & 50.0 & 52.5 & 59.8 & 56.2 & 66.4 & 75.0 & 61.2 \\\\\n"
     ]
    }
   ],
   "source": [
    "for model in models:\n",
    "    with jsonlines.open(f'{basedir}/{model}/{model}_dev.jsonl') as reader:\n",
    "        lines = [obj for obj in reader]\n",
    "    res_dict = defaultdict(list)\n",
    "    for i in range(0, len(lines)):\n",
    "        l = lines[i]\n",
    "        if l['label']:\n",
    "            res = l['score'] >= 0.5\n",
    "        else:\n",
    "            res = l['score'] < 0.5\n",
    "        res_dict['overall'].append(res)\n",
    "        res_dict[relation2cat[l['relation']]].append(res)\n",
    "    \n",
    "    print(f'{models[model]} &', end=' ')\n",
    "    for k in cat2relation.keys():\n",
    "        print(f'{np.mean(res_dict[k])*100:.1f}', end=' & ')\n",
    "    print(f'{np.mean(res_dict[\"overall\"])*100:.1f} \\\\\\\\')"
   ]
  },
  {
   "cell_type": "markdown",
   "metadata": {},
   "source": [
    "## Dev / Test"
   ]
  },
  {
   "cell_type": "code",
   "execution_count": 9,
   "metadata": {},
   "outputs": [
    {
     "name": "stdout",
     "output_type": "stream",
     "text": [
      "ALBEF$_{4M}$ & 52.3/51.1 & 38.6/42.2 & 55.9/58.0 & 61.7/60.2 & 56.2/55.3 & 58.6/59.2 & 65.6/56.9 & 58.0/57.3 \\\\\n",
      "ALBEF$_{14M}$ & 52.3/54.2 & 59.1/40.0 & 55.9/58.0 & 59.8/62.6 & 46.9/52.0 & 66.8/58.9 & 71.9/58.8 & 60.2/58.3 \\\\\n",
      "BLIP$_{14M}$ & 56.8/49.3 & 56.8/50.0 & 57.6/47.3 & 42.5/49.3 & 51.6/48.0 & 45.1/51.8 & 50.0/41.2 & 47.4/49.7 \\\\\n",
      "BLIP$_{129M}$ & 44.7/41.2 & 43.2/52.2 & 52.5/53.6 & 53.6/45.4 & 53.1/49.6 & 50.2/49.7 & 40.6/37.3 & 50.5/46.9 \\\\\n",
      "BLIP$_{129M}$+CapFilt-L & 57.6/49.3 & 36.4/57.8 & 47.5/53.6 & 45.9/45.5 & 48.4/47.2 & 48.5/51.1 & 37.5/41.2 & 47.7/48.7 \\\\\n",
      "BLIP-ViT/L$_{129M}$ & 56.1/51.8 & 29.5/58.9 & 49.2/52.7 & 46.9/48.5 & 53.1/43.9 & 49.8/51.8 & 46.9/47.1 & 48.7/50.3 \\\\\n",
      "PEVL$_{pretrain}$ & 47.0/55.3 & 56.8/48.9 & 57.6/56.2 & 61.9/60.8 & 51.6/48.8 & 62.4/57.4 & 71.9/58.8 & 59.3/57.5 \\\\\n",
      "PEVL$_{grounding}$ & 53.8/53.5 & 65.9/50.0 & 59.3/52.7 & 60.9/59.4 & 60.9/54.5 & 62.7/60.2 & 75.0/58.8 & 61.1/57.7 \\\\\n",
      "PEVL$_{vrd}$ & 54.5/55.6 & 59.1/52.2 & 61.0/53.6 & 59.8/60.4 & 59.4/54.5 & 64.1/63.1 & 68.8/64.7 & 60.7/59.5 \\\\\n",
      "X-VLM$_{4M}$ & 57.6/57.7 & 56.8/43.3 & 59.3/52.7 & 69.2/66.1 & 57.8/54.5 & 71.2/68.4 & 75.0/62.7 & 66.6/63.0 \\\\\n",
      "X-VLM$_{16M}$ & 61.4/58.5 & 65.9/46.7 & 64.4/58.0 & 68.4/67.7 & 62.5/52.0 & 70.5/68.7 & 84.4/68.6 & 67.9/64.3 \\\\\n",
      "BLIP-2 & 59.8/54.9 & 50.0/43.3 & 52.5/57.1 & 59.8/63.6 & 56.2/51.2 & 66.4/67.0 & 75.0/66.7 & 61.2/61.5 \\\\\n"
     ]
    }
   ],
   "source": [
    "for model in models:\n",
    "    with jsonlines.open(f'{basedir}/{model}/{model}_dev.jsonl') as reader:\n",
    "        dev_lines = [obj for obj in reader]\n",
    "    with jsonlines.open(f'{basedir}/{model}/{model}_test.jsonl') as reader:\n",
    "        test_lines = [obj for obj in reader]\n",
    "    dev_dict = defaultdict(list)\n",
    "    for i in range(0, len(dev_lines)):\n",
    "        l = dev_lines[i]\n",
    "        if l['label']:\n",
    "            res = l['score'] >= 0.5\n",
    "        else:\n",
    "            res = l['score'] < 0.5\n",
    "        dev_dict['overall'].append(res)\n",
    "        dev_dict[relation2cat[l['relation']]].append(res)\n",
    "    test_dict = defaultdict(list)\n",
    "    for i in range(0, len(test_lines)):\n",
    "        l = test_lines[i]\n",
    "        if l['label']:\n",
    "            res = l['score'] >= 0.5\n",
    "        else:\n",
    "            res = l['score'] < 0.5\n",
    "        test_dict['overall'].append(res)\n",
    "        test_dict[relation2cat[l['relation']]].append(res)\n",
    "    \n",
    "    print(f'{models[model]} &', end=' ')\n",
    "    for k in cat2relation.keys():\n",
    "        print(f'{np.mean(dev_dict[k])*100:.1f}/{np.mean(test_dict[k])*100:.1f}', end=' & ')\n",
    "    print(f'{np.mean(dev_dict[\"overall\"])*100:.1f}/{np.mean(test_dict[\"overall\"])*100:.1f} \\\\\\\\')"
   ]
  }
 ],
 "metadata": {
  "interpreter": {
   "hash": "9431b73c3988f89b90713d68a28d0e3b89dfa3f93fc2599c717e5989b3d77af3"
  },
  "kernelspec": {
   "display_name": "Python 3.9.7 ('base')",
   "language": "python",
   "name": "python3"
  },
  "language_info": {
   "codemirror_mode": {
    "name": "ipython",
    "version": 3
   },
   "file_extension": ".py",
   "mimetype": "text/x-python",
   "name": "python",
   "nbconvert_exporter": "python",
   "pygments_lexer": "ipython3",
   "version": "3.9.7"
  },
  "orig_nbformat": 4
 },
 "nbformat": 4,
 "nbformat_minor": 2
}
