{
 "cells": [
  {
   "cell_type": "code",
   "execution_count": 1,
   "metadata": {},
   "outputs": [],
   "source": [
    "import jsonlines\n",
    "import numpy as np\n",
    "from collections import defaultdict"
   ]
  },
  {
   "cell_type": "code",
   "execution_count": 2,
   "metadata": {},
   "outputs": [],
   "source": [
    "basedir = \"../outputs/SVO\"\n",
    "\n",
    "models = {\n",
    "    \"albef_4m\": \"ALBEF$_{4M}$\",\n",
    "    \"albef_14m\": \"ALBEF$_{14M}$\",\n",
    "    \"blip_14m\": \"BLIP$_{14M}$\",\n",
    "    \"blip_129m\": \"BLIP$_{129M}$\",\n",
    "    \"blip_capfiltl_129m\": \"BLIP$_{129M}$+CapFilt-L\",\n",
    "    \"blip_vitl_129m\": \"BLIP-ViT/L$_{129M}$\",\n",
    "    \"pevl_pretraining\": \"PEVL$_{pretrain}$\",\n",
    "    \"pevl_grounding\": \"PEVL$_{grounding}$\",\n",
    "    \"pevl_vrd\": \"PEVL$_{vrd}$\",\n",
    "    \"x-vlm_4m\": \"X-VLM$_{4M}$\",\n",
    "    \"x-vlm_16m\": \"X-VLM$_{16M}$\",\n",
    "    \"clipcap_cc\": \"clipcap$_{CC3M}$\",\n",
    "    \"clipcap_coco\": \"clipcap$_{COCO}$\",\n",
    "    \"blip2_itm_pretrain\": \"BLIP-2\",\n",
    "    \"clip_b32\": \"CLIP (ViT-B/32)\"\n",
    "    }"
   ]
  },
  {
   "cell_type": "code",
   "execution_count": 3,
   "metadata": {},
   "outputs": [
    {
     "data": {
      "text/plain": [
       "[{'label': '0_p',\n",
       "  'score': 0.5716244578361511,\n",
       "  'pos_triplet': 'girl,stand,grass',\n",
       "  'neg_triplet': 'dog,stand,grass',\n",
       "  'subj_neg': True,\n",
       "  'verb_neg': False,\n",
       "  'obj_neg': False},\n",
       " {'label': '0_n',\n",
       "  'score': 2.2030102627468295e-05,\n",
       "  'pos_triplet': 'girl,stand,grass',\n",
       "  'neg_triplet': 'dog,stand,grass',\n",
       "  'subj_neg': True,\n",
       "  'verb_neg': False,\n",
       "  'obj_neg': False}]"
      ]
     },
     "execution_count": 3,
     "metadata": {},
     "output_type": "execute_result"
    }
   ],
   "source": [
    "model = list(models.keys())[0]\n",
    "with jsonlines.open(f'{basedir}/{model}/{model}.jsonl') as reader:\n",
    "    lines = [obj for obj in reader]\n",
    "\n",
    "lines[:2]"
   ]
  },
  {
   "cell_type": "code",
   "execution_count": 4,
   "metadata": {},
   "outputs": [
    {
     "name": "stdout",
     "output_type": "stream",
     "text": [
      "ALBEF$_{4M}$ & 88.5 & 85.4 & 93.7 & 87.6 \\\\\n",
      "ALBEF$_{14M}$ & 89.4 & 86.4 & 94.7 & 88.6 \\\\\n",
      "BLIP$_{14M}$ & 49.8 & 48.8 & 47.5 & 48.7 \\\\\n",
      "BLIP$_{129M}$ & 50.8 & 51.4 & 51.8 & 51.4 \\\\\n",
      "BLIP$_{129M}$+CapFilt-L & 49.4 & 51.3 & 52.5 & 51.2 \\\\\n",
      "BLIP-ViT/L$_{129M}$ & 50.0 & 50.9 & 50.9 & 50.8 \\\\\n",
      "PEVL$_{pretrain}$ & 89.4 & 82.9 & 93.9 & 86.2 \\\\\n",
      "PEVL$_{grounding}$ & 91.2 & 85.9 & 94.6 & 88.5 \\\\\n",
      "PEVL$_{vrd}$ & 90.1 & 81.1 & 92.3 & 84.8 \\\\\n",
      "X-VLM$_{4M}$ & 89.3 & 87.1 & 94.5 & 88.9 \\\\\n",
      "X-VLM$_{16M}$ & 90.3 & 88.4 & 94.6 & 90.0 \\\\\n",
      "clipcap$_{CC3M}$ & 84.2 & 80.5 & 90.2 & 83.1 \\\\\n",
      "clipcap$_{COCO}$ & 87.3 & 81.5 & 89.8 & 84.1 \\\\\n",
      "BLIP-2 & 87.6 & 84.6 & 91.7 & 86.5 \\\\\n",
      "CLIP (ViT-B/32) & 83.6 & 79.0 & 88.1 & 81.6 \\\\\n"
     ]
    }
   ],
   "source": [
    "for model in models:\n",
    "    with jsonlines.open(f'{basedir}/{model}/{model}.jsonl') as reader:\n",
    "        lines = [obj for obj in reader]\n",
    "    res_dict = defaultdict(list)\n",
    "    for i in range(0, len(lines), 2):\n",
    "        lc, lf = lines[i], lines[i+1]\n",
    "        assert lc['label'].split('_')[0] == lf['label'].split('_')[0]\n",
    "        assert lc['label'].split('_')[1] == 'p'\n",
    "        assert lf['label'].split('_')[1] == 'n'\n",
    "        if lc['subj_neg']:\n",
    "            pos = 'subj'\n",
    "        elif lc['verb_neg']:\n",
    "            pos = 'verb'\n",
    "        else:\n",
    "            pos = 'obj'\n",
    "        res = lc['score'] > lf['score']\n",
    "        res_dict['overall'].append(res)\n",
    "        res_dict[pos].append(res)\n",
    "    \n",
    "    print(f'{models[model]} &', end=' ')\n",
    "    for k in ['subj', 'verb', 'obj']:\n",
    "        print(f'{np.mean(res_dict[k])*100:.1f}', end=' & ')\n",
    "    print(f'{np.mean(res_dict[\"overall\"])*100:.1f} \\\\\\\\')"
   ]
  }
 ],
 "metadata": {
  "interpreter": {
   "hash": "9431b73c3988f89b90713d68a28d0e3b89dfa3f93fc2599c717e5989b3d77af3"
  },
  "kernelspec": {
   "display_name": "Python 3.9.7 ('base')",
   "language": "python",
   "name": "python3"
  },
  "language_info": {
   "codemirror_mode": {
    "name": "ipython",
    "version": 3
   },
   "file_extension": ".py",
   "mimetype": "text/x-python",
   "name": "python",
   "nbconvert_exporter": "python",
   "pygments_lexer": "ipython3",
   "version": "3.9.7"
  },
  "orig_nbformat": 4
 },
 "nbformat": 4,
 "nbformat_minor": 2
}
