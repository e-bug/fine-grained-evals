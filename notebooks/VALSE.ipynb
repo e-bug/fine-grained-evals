{
 "cells": [
  {
   "cell_type": "code",
   "execution_count": 1,
   "metadata": {},
   "outputs": [],
   "source": [
    "import jsonlines\n",
    "import numpy as np\n",
    "from collections import defaultdict"
   ]
  },
  {
   "cell_type": "code",
   "execution_count": 2,
   "metadata": {},
   "outputs": [],
   "source": [
    "basedir = \"../outputs/VALSE\"\n",
    "\n",
    "models = {\n",
    "    \"albef_4m\": \"ALBEF$_{4M}$\",\n",
    "    \"albef_14m\": \"ALBEF$_{14M}$\",\n",
    "    \"blip_14m\": \"BLIP$_{14M}$\",\n",
    "    \"blip_129m\": \"BLIP$_{129M}$\",\n",
    "    \"blip_capfiltl_129m\": \"BLIP$_{129M}$+CapFilt-L\",\n",
    "    \"blip_vitl_129m\": \"BLIP-ViT/L$_{129M}$\",\n",
    "    \"pevl_pretraining\": \"PEVL$_{pretrain}$\",\n",
    "    \"pevl_grounding\": \"PEVL$_{grounding}$\",\n",
    "    \"pevl_vrd\": \"PEVL$_{vrd}$\",\n",
    "    \"x-vlm_4m\": \"X-VLM$_{4M}$\",\n",
    "    \"x-vlm_16m\": \"X-VLM$_{16M}$\",\n",
    "    \"clipcap_cc\": \"clipcap$_{CC3M}$\",\n",
    "    \"clipcap_coco\": \"clipcap$_{COCO}$\",\n",
    "    \"blip2_itm_pretrain\": \"BLIP-2\",\n",
    "    }"
   ]
  },
  {
   "cell_type": "code",
   "execution_count": 3,
   "metadata": {},
   "outputs": [
    {
     "data": {
      "text/plain": [
       "[{'label': '0_c',\n",
       "  'score': 0.053006917238235474,\n",
       "  'instrument': 'actant-swap',\n",
       "  'piece': 'actions',\n",
       "  'type': 'caption',\n",
       "  'id': 0},\n",
       " {'label': '0_f',\n",
       "  'score': 0.05906842276453972,\n",
       "  'instrument': 'actant-swap',\n",
       "  'piece': 'actions',\n",
       "  'type': 'foil',\n",
       "  'id': 0}]"
      ]
     },
     "execution_count": 3,
     "metadata": {},
     "output_type": "execute_result"
    }
   ],
   "source": [
    "model = list(models.keys())[0]\n",
    "with jsonlines.open(f'{basedir}/{model}/{model}.jsonl') as reader:\n",
    "    lines = [obj for obj in reader]\n",
    "\n",
    "lines[:2]"
   ]
  },
  {
   "cell_type": "code",
   "execution_count": 4,
   "metadata": {},
   "outputs": [
    {
     "name": "stdout",
     "output_type": "stream",
     "text": [
      "ALBEF$_{4M}$ & 71.3 & 78.8 & 62.2 & 65.1 & 59.8 & 73.1 & 73.6 & 58.4 & 52.4 & 55.8 & 95.5 & 69.1 \\\\\n",
      "ALBEF$_{14M}$ & 69.5 & 76.0 & 61.5 & 61.0 & 64.5 & 70.7 & 77.6 & 60.5 & 55.9 & 61.5 & 96.1 & 69.4 \\\\\n",
      "BLIP$_{14M}$ & 82.4 & 73.8 & 61.8 & 62.6 & 63.7 & 65.2 & 74.7 & 55.2 & 52.3 & 42.3 & 92.3 & 67.8 \\\\\n",
      "BLIP$_{129M}$ & 78.2 & 75.9 & 63.4 & 63.4 & 58.5 & 66.2 & 75.2 & 59.0 & 56.4 & 52.9 & 93.2 & 68.8 \\\\\n",
      "BLIP$_{129M}$+CapFilt-L & 75.4 & 75.0 & 64.7 & 68.8 & 53.0 & 66.7 & 73.0 & 60.6 & 48.2 & 51.0 & 93.8 & 68.2 \\\\\n",
      "BLIP-ViT/L$_{129M}$ & 73.3 & 77.7 & 68.2 & 67.6 & 61.2 & 71.8 & 75.3 & 60.8 & 51.1 & 45.2 & 96.1 & 70.3 \\\\\n",
      "PEVL$_{pretrain}$ & 89.7 & 65.5 & 66.0 & 66.2 & 57.3 & 67.9 & 73.5 & 59.4 & 58.2 & 56.7 & 90.9 & 68.9 \\\\\n",
      "PEVL$_{grounding}$ & 91.1 & 63.9 & 70.0 & 70.9 & 63.2 & 62.4 & 74.4 & 57.1 & 53.8 & 49.0 & 92.6 & 69.5 \\\\\n",
      "PEVL$_{vrd}$ & 83.8 & 61.8 & 62.8 & 70.3 & 40.4 & 64.5 & 68.1 & 53.2 & 47.7 & 42.3 & 94.1 & 64.5 \\\\\n",
      "X-VLM$_{4M}$ & 80.0 & 77.8 & 69.0 & 68.4 & 72.5 & 74.8 & 77.3 & 65.0 & 50.1 & 48.1 & 92.5 & 72.4 \\\\\n",
      "X-VLM$_{16M}$ & 83.6 & 78.7 & 71.5 & 72.0 & 74.8 & 73.1 & 79.2 & 64.6 & 60.0 & 49.0 & 91.9 & 74.5 \\\\\n",
      "clipcap$_{CC3M}$ & 66.3 & 54.8 & 49.4 & 50.1 & 51.5 & 83.2 & 75.5 & 87.9 & 45.1 & 45.2 & 94.7 & 65.7 \\\\\n",
      "clipcap$_{COCO}$ & 74.9 & 60.6 & 55.0 & 53.0 & 53.0 & 89.7 & 71.0 & 86.5 & 47.5 & 49.0 & 97.1 & 68.5 \\\\\n",
      "BLIP-2 & 83.6 & 79.6 & 70.2 & 68.7 & 68.0 & 65.6 & 84.4 & 63.2 & 62.6 & 58.7 & 96.0 & 74.0 \\\\\n"
     ]
    }
   ],
   "source": [
    "for model in models:\n",
    "    with jsonlines.open(f'{basedir}/{model}/{model}.jsonl') as reader:\n",
    "        lines = [obj for obj in reader]\n",
    "    res_dict = defaultdict(list)\n",
    "    for i in range(0, len(lines), 2):\n",
    "        lc, lf = lines[i], lines[i+1]\n",
    "        assert lc['label'].split('_')[0] == lf['label'].split('_')[0]\n",
    "        assert lc['label'].split('_')[1] == 'c'\n",
    "        assert lf['label'].split('_')[1] == 'f'\n",
    "        instrument = lc['instrument']\n",
    "        res = lc['score'] > lf['score']\n",
    "        res_dict['overall'].append(res)\n",
    "        res_dict[instrument].append(res)\n",
    "    \n",
    "    print(f'{models[model]} &', end=' ')\n",
    "    for k in ['existence', 'plurals', 'counting-hard', 'counting-small-quant', 'counting-adversarial', 'relations',\n",
    "              'action-replacement', 'actant-swap', 'coreference-standard', 'coreference-hard', 'foil-it']:\n",
    "        print(f'{np.mean(res_dict[k])*100:.1f}', end=' & ')\n",
    "    print(f'{np.mean(res_dict[\"overall\"])*100:.1f} \\\\\\\\')"
   ]
  },
  {
   "cell_type": "code",
   "execution_count": null,
   "metadata": {},
   "outputs": [],
   "source": []
  }
 ],
 "metadata": {
  "interpreter": {
   "hash": "9431b73c3988f89b90713d68a28d0e3b89dfa3f93fc2599c717e5989b3d77af3"
  },
  "kernelspec": {
   "display_name": "Python 3.9.7 ('base')",
   "language": "python",
   "name": "python3"
  },
  "language_info": {
   "codemirror_mode": {
    "name": "ipython",
    "version": 3
   },
   "file_extension": ".py",
   "mimetype": "text/x-python",
   "name": "python",
   "nbconvert_exporter": "python",
   "pygments_lexer": "ipython3",
   "version": "3.9.7"
  },
  "orig_nbformat": 4
 },
 "nbformat": 4,
 "nbformat_minor": 2
}
